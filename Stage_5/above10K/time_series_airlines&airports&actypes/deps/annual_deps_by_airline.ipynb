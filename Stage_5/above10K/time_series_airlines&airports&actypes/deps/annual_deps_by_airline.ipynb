{
 "cells": [
  {
   "cell_type": "code",
   "execution_count": 1,
   "metadata": {},
   "outputs": [],
   "source": [
    "import pandas as pd"
   ]
  },
  {
   "cell_type": "code",
   "execution_count": 2,
   "metadata": {},
   "outputs": [
    {
     "name": "stdout",
     "output_type": "stream",
     "text": [
      " Volume in drive C has no label.\n",
      " Volume Serial Number is 322A-B5F7\n",
      "\n",
      " Directory of c:\\Users\\Juhana\\Desktop\\Masters_New\\above10K\\time_series_airlines&airports&actypes\\deps\n",
      "\n",
      "06/23/2023  03:22 PM    <DIR>          .\n",
      "06/23/2023  03:22 PM    <DIR>          ..\n",
      "06/23/2023  02:34 PM    <DIR>          annual_combos\n",
      "06/23/2023  03:22 PM             1,578 annual_deps_by_airline.ipynb\n",
      "06/08/2023  12:01 PM         1,337,252 annual_time_series_with_airports&airlines.csv\n",
      "06/09/2023  11:33 AM         1,789,411 annual_time_series_with_airports&airlines_broad.csv\n",
      "06/15/2023  12:32 PM           606,643 Combos_combined.xlsx\n",
      "06/09/2023  01:52 PM         1,622,927 quarterly_time_series_with_airports&airlines.csv\n",
      "06/09/2023  11:35 AM         2,274,690 quarterly_time_series_with_airports&airlines_broad.csv\n",
      "06/09/2023  01:59 PM         2,014,485 quarterly_time_series_with_airports_airlines_broad.csv\n",
      "06/11/2023  01:17 PM             2,007 wrangling_annual_by_airport&airlines.ipynb\n",
      "06/08/2023  08:55 AM             2,403 wrangling_quarterly_by_airport&airlines.ipynb\n",
      "               9 File(s)      9,651,396 bytes\n",
      "               3 Dir(s)  70,653,014,016 bytes free\n"
     ]
    }
   ],
   "source": [
    "!dir"
   ]
  },
  {
   "cell_type": "code",
   "execution_count": 3,
   "metadata": {},
   "outputs": [],
   "source": [
    "df = pd.read_csv('annual_time_series_with_airports&airlines.csv')"
   ]
  },
  {
   "cell_type": "code",
   "execution_count": 4,
   "metadata": {},
   "outputs": [
    {
     "data": {
      "text/plain": [
       "Index(['ORIGIN_AIRPORT_ID', 'ORIGIN_STATE_ABR', 'CODE', 'NAME', 'AIRLINE_ID',\n",
       "       'UNIQUE_CARRIER_NAME', 'AIRCRAFT_TYPE', 'Description', '2019', '2020',\n",
       "       '2021', '2022'],\n",
       "      dtype='object')"
      ]
     },
     "execution_count": 4,
     "metadata": {},
     "output_type": "execute_result"
    }
   ],
   "source": [
    "df.columns"
   ]
  },
  {
   "cell_type": "code",
   "execution_count": 5,
   "metadata": {},
   "outputs": [
    {
     "name": "stderr",
     "output_type": "stream",
     "text": [
      "C:\\Users\\Juhana\\AppData\\Local\\Temp\\ipykernel_11320\\3688754960.py:1: FutureWarning: Indexing with multiple keys (implicitly converted to a tuple of keys) will be deprecated, use a list instead.\n",
      "  output_df = df.groupby(['AIRLINE_ID', 'UNIQUE_CARRIER_NAME'])['2019', '2020', '2021', '2022'].sum().reset_index()\n"
     ]
    }
   ],
   "source": [
    "output_df = df.groupby(['AIRLINE_ID', 'UNIQUE_CARRIER_NAME'])['2019', '2020', '2021', '2022'].sum().reset_index()\n",
    "\n",
    "\n"
   ]
  },
  {
   "cell_type": "code",
   "execution_count": 6,
   "metadata": {},
   "outputs": [],
   "source": [
    "output_df.to_csv('annual_deps_by_airline.csv', index=False)"
   ]
  },
  {
   "attachments": {},
   "cell_type": "markdown",
   "metadata": {},
   "source": []
  },
  {
   "cell_type": "code",
   "execution_count": null,
   "metadata": {},
   "outputs": [],
   "source": []
  }
 ],
 "metadata": {
  "kernelspec": {
   "display_name": "Python 3",
   "language": "python",
   "name": "python3"
  },
  "language_info": {
   "codemirror_mode": {
    "name": "ipython",
    "version": 3
   },
   "file_extension": ".py",
   "mimetype": "text/x-python",
   "name": "python",
   "nbconvert_exporter": "python",
   "pygments_lexer": "ipython3",
   "version": "3.11.0"
  },
  "orig_nbformat": 4
 },
 "nbformat": 4,
 "nbformat_minor": 2
}
