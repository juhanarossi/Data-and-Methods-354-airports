{
 "cells": [
  {
   "cell_type": "code",
   "execution_count": 1,
   "metadata": {},
   "outputs": [],
   "source": [
    "import pandas as pd "
   ]
  },
  {
   "cell_type": "code",
   "execution_count": 4,
   "metadata": {},
   "outputs": [],
   "source": [
    "# Define the quarters\n",
    "quarters = {\n",
    "    '1Q': ['Jan', 'Feb', 'Mar'],\n",
    "    '2Q': ['Apr', 'May', 'Jun'],\n",
    "    '3Q': ['Jul', 'Aug', 'Sep'],\n",
    "    '4Q': ['Oct', 'Nov', 'Dec'],\n",
    "}\n",
    "\n",
    "# Define the years\n",
    "years = ['2019', '2020', '2021', '2022']\n",
    "\n",
    "# Initial dataframe\n",
    "output_df = None\n",
    "\n",
    "for year in years:\n",
    "    # Load the data\n",
    "    filename = f\"time_series_deps_airline_{year}_@above10K.csv\"\n",
    "    df = pd.read_csv(filename)\n",
    "\n",
    "    # Calculate the quarterly totals\n",
    "    for quarter, months in quarters.items():\n",
    "        df[f'{year}_{quarter}'] = df[months].sum(axis=1)\n",
    "    \n",
    "    # Flatten the list of lists into a single list\n",
    "    months = [month for sublist in quarters.values() for month in sublist]\n",
    "\n",
    "    df_quarterly = df.drop(months + ['total'], axis=1, errors='ignore')\n",
    "\n",
    "    # Merge with the output dataframe\n",
    "    if output_df is None:\n",
    "        output_df = df_quarterly\n",
    "    else:\n",
    "        output_df = pd.merge(output_df, df_quarterly, how='outer', \n",
    "                             on=['ORIGIN_AIRPORT_ID', 'ORIGIN_STATE_ABR', 'CODE', 'NAME', 'AIRLINE_ID', 'UNIQUE_CARRIER_NAME', 'AIRCRAFT_TYPE', 'Description'])\n",
    "\n",
    "# Save the output to a single file\n",
    "output_df.to_csv('quarterly_time_series_with_airports&airlines.csv', index=False)\n",
    "\n",
    "\n",
    "\n"
   ]
  },
  {
   "cell_type": "code",
   "execution_count": null,
   "metadata": {},
   "outputs": [],
   "source": []
  }
 ],
 "metadata": {
  "kernelspec": {
   "display_name": "Python 3",
   "language": "python",
   "name": "python3"
  },
  "language_info": {
   "codemirror_mode": {
    "name": "ipython",
    "version": 3
   },
   "file_extension": ".py",
   "mimetype": "text/x-python",
   "name": "python",
   "nbconvert_exporter": "python",
   "pygments_lexer": "ipython3",
   "version": "3.11.0rc2"
  },
  "orig_nbformat": 4
 },
 "nbformat": 4,
 "nbformat_minor": 2
}
