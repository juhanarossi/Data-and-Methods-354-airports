{
 "cells": [
  {
   "cell_type": "code",
   "execution_count": 1,
   "metadata": {},
   "outputs": [],
   "source": [
    "import pandas as pd "
   ]
  },
  {
   "cell_type": "code",
   "execution_count": 3,
   "metadata": {},
   "outputs": [
    {
     "name": "stdout",
     "output_type": "stream",
     "text": [
      " Volume in drive C has no label.\n",
      " Volume Serial Number is 322A-B5F7\n",
      "\n",
      " Directory of c:\\Users\\Juhana\\Desktop\\Masters_New\\above10K\\time_series_airlines&airports&actypes\\pax\n",
      "\n",
      "06/11/2023  02:05 PM    <DIR>          .\n",
      "06/11/2023  02:05 PM    <DIR>          ..\n",
      "06/11/2023  01:41 PM             3,761 adding_actype_description_to_time_series_deps_airline.ipynb\n",
      "06/07/2023  10:48 AM            11,740 AIRCRAFT_TYPE.csv\n",
      "06/11/2023  02:03 PM         1,439,327 annual_time_series_pax_with_airports&airlines.csv\n",
      "06/11/2023  01:32 PM            13,227 groupby_airline_annual.ipynb\n",
      "06/11/2023  01:42 PM         1,541,121 time_series_pax_by_airport&airline_2019_@above10K.csv\n",
      "06/11/2023  01:42 PM         1,263,717 time_series_pax_by_airport&airline_2020_@above10K.csv\n",
      "06/11/2023  01:42 PM         1,308,458 time_series_pax_by_airport&airline_2021_@above10K.csv\n",
      "06/11/2023  01:42 PM         1,402,856 time_series_pax_by_airport&airline_2022_@above10K.csv\n",
      "06/09/2023  11:39 AM            63,446 Unite_airlines&broad_airport_data.ipynb\n",
      "06/11/2023  02:05 PM            18,984 wrangling_annual_by_airport&airlines_pax.ipynb\n",
      "06/08/2023  08:55 AM             2,403 wrangling_quarterly_by_airport&airlines.ipynb\n",
      "              11 File(s)      7,069,040 bytes\n",
      "               2 Dir(s)  87,732,174,848 bytes free\n"
     ]
    }
   ],
   "source": [
    "!dir"
   ]
  },
  {
   "cell_type": "code",
   "execution_count": 4,
   "metadata": {},
   "outputs": [],
   "source": [
    "# Define the quarters\n",
    "quarters = {\n",
    "    '1Q': ['Jan', 'Feb', 'Mar'],\n",
    "    '2Q': ['Apr', 'May', 'Jun'],\n",
    "    '3Q': ['Jul', 'Aug', 'Sep'],\n",
    "    '4Q': ['Oct', 'Nov', 'Dec'],\n",
    "}\n",
    "\n",
    "# Define the years\n",
    "years = ['2019', '2020', '2021', '2022']\n",
    "\n",
    "# Initial dataframe\n",
    "output_df = None\n",
    "\n",
    "for year in years:\n",
    "    # Load the data\n",
    "    filename = f\"time_series_pax_by_airport&airline_{year}_@above10K.csv\"\n",
    "    df = pd.read_csv(filename)\n",
    "\n",
    "    # Calculate the quarterly totals\n",
    "    for quarter, months in quarters.items():\n",
    "        df[f'{year}_{quarter}'] = df[months].sum(axis=1)\n",
    "    \n",
    "    # Flatten the list of lists into a single list\n",
    "    months = [month for sublist in quarters.values() for month in sublist]\n",
    "\n",
    "    df_quarterly = df.drop(months + ['total'], axis=1, errors='ignore')\n",
    "\n",
    "    # Merge with the output dataframe\n",
    "    if output_df is None:\n",
    "        output_df = df_quarterly\n",
    "    else:\n",
    "        output_df = pd.merge(output_df, df_quarterly, how='outer', \n",
    "                             on=['ORIGIN_AIRPORT_ID', 'CODE', 'NAME', 'AIRLINE_ID', 'UNIQUE_CARRIER_NAME', 'AIRCRAFT_TYPE', 'Description'])\n",
    "\n",
    "# Save the output to a single file\n",
    "output_df.to_csv('quarterly_time_series_pax_with_airports&airlines.csv', index=False)\n",
    "\n",
    "\n",
    "\n"
   ]
  },
  {
   "cell_type": "code",
   "execution_count": null,
   "metadata": {},
   "outputs": [],
   "source": []
  }
 ],
 "metadata": {
  "kernelspec": {
   "display_name": "Python 3",
   "language": "python",
   "name": "python3"
  },
  "language_info": {
   "codemirror_mode": {
    "name": "ipython",
    "version": 3
   },
   "file_extension": ".py",
   "mimetype": "text/x-python",
   "name": "python",
   "nbconvert_exporter": "python",
   "pygments_lexer": "ipython3",
   "version": "3.11.0rc2"
  },
  "orig_nbformat": 4
 },
 "nbformat": 4,
 "nbformat_minor": 2
}
