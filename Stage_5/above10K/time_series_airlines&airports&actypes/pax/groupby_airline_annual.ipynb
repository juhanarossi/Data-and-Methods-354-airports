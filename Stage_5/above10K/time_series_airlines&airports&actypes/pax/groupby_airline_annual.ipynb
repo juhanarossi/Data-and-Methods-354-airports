{
 "cells": [
  {
   "cell_type": "code",
   "execution_count": 1,
   "metadata": {},
   "outputs": [],
   "source": [
    "import pandas as pd\n",
    "import numpy as np"
   ]
  },
  {
   "cell_type": "code",
   "execution_count": 2,
   "metadata": {},
   "outputs": [],
   "source": [
    "df = pd.read_csv('time_series_pax_airline_2022_@above10K.csv')"
   ]
  },
  {
   "cell_type": "code",
   "execution_count": 3,
   "metadata": {},
   "outputs": [
    {
     "data": {
      "text/plain": [
       "Index(['ORIGIN_AIRPORT_ID', 'CODE', 'NAME', 'AIRLINE_ID',\n",
       "       'UNIQUE_CARRIER_NAME', 'AIRCRAFT_TYPE', 'Jan', 'Feb', 'Mar', 'Apr',\n",
       "       'May', 'Jun', 'Jul', 'Aug', 'Sep', 'Oct', 'Nov', 'Dec', 'total'],\n",
       "      dtype='object')"
      ]
     },
     "execution_count": 3,
     "metadata": {},
     "output_type": "execute_result"
    }
   ],
   "source": [
    "df.columns"
   ]
  },
  {
   "cell_type": "code",
   "execution_count": 8,
   "metadata": {},
   "outputs": [],
   "source": [
    "def process_files(years):\n",
    "    for year in years:\n",
    "        # read the csv file\n",
    "        df = pd.read_csv(f'time_series_pax_airline_{year}_@above10K.csv')\n",
    "\n",
    "        # drop the unnecessary columns\n",
    "        #df = df.drop(['ORIGIN_AIRPORT_ID', 'CODE', 'NAME'], axis=1)\n",
    "\n",
    "        # group by 'AIRCRAFT_TYPE' and 'Description', and sum the other columns\n",
    "        df_grouped = df.groupby(['ORIGIN_AIRPORT_ID', 'CODE', 'NAME', 'AIRLINE_ID',\n",
    "       'UNIQUE_CARRIER_NAME', 'AIRCRAFT_TYPE', 'Description'], as_index=False).sum()\n",
    "\n",
    "        # calculate the 'total' column as the sum of the monthly columns\n",
    "        month_cols = ['Jan', 'Feb', 'Mar', 'Apr', 'May', 'Jun', 'Jul', 'Aug', 'Sep', 'Oct', 'Nov', 'Dec']\n",
    "        df_grouped['total'] = df_grouped[month_cols].sum(axis=1)\n",
    "\n",
    "        # save the output DataFrame into a new csv file\n",
    "        df_grouped.to_csv(f'time_series_pax_by_airport&airline_{year}_@above10K.csv', index=False)\n",
    "\n",
    "# call the function for the years 2019, 2020, 2021, 2022\n",
    "process_files([2019, 2020, 2021, 2022])\n",
    "\n"
   ]
  },
  {
   "cell_type": "code",
   "execution_count": null,
   "metadata": {},
   "outputs": [],
   "source": []
  }
 ],
 "metadata": {
  "kernelspec": {
   "display_name": "Python 3",
   "language": "python",
   "name": "python3"
  },
  "language_info": {
   "codemirror_mode": {
    "name": "ipython",
    "version": 3
   },
   "file_extension": ".py",
   "mimetype": "text/x-python",
   "name": "python",
   "nbconvert_exporter": "python",
   "pygments_lexer": "ipython3",
   "version": "3.11.0rc2"
  },
  "orig_nbformat": 4
 },
 "nbformat": 4,
 "nbformat_minor": 2
}
