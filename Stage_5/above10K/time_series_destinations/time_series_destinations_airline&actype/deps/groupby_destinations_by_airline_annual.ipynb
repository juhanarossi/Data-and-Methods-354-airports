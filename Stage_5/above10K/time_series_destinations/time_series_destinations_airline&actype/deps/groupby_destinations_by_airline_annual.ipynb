{
 "cells": [
  {
   "cell_type": "code",
   "execution_count": 1,
   "metadata": {},
   "outputs": [],
   "source": [
    "import pandas as pd\n",
    "import numpy as np"
   ]
  },
  {
   "cell_type": "code",
   "execution_count": 2,
   "metadata": {},
   "outputs": [],
   "source": [
    "df = pd.read_csv('time_series_deps_destinations_2022_@above10K.csv')"
   ]
  },
  {
   "cell_type": "code",
   "execution_count": 3,
   "metadata": {},
   "outputs": [
    {
     "data": {
      "text/plain": [
       "Index(['ORIGIN_AIRPORT_ID', 'ORIGIN_STATE_ABR', 'CODE', 'NAME', 'AIRLINE_ID',\n",
       "       'UNIQUE_CARRIER_NAME', 'AIRCRAFT_TYPE', 'DEST_AIRPORT_ID', 'DEST',\n",
       "       'DEST_CITY_NAME', 'DEST_STATE_ABR', 'Jan', 'Feb', 'Mar', 'Apr', 'May',\n",
       "       'Jun', 'Jul', 'Aug', 'Sep', 'Oct', 'Nov', 'Dec', 'total'],\n",
       "      dtype='object')"
      ]
     },
     "execution_count": 3,
     "metadata": {},
     "output_type": "execute_result"
    }
   ],
   "source": [
    "df.columns"
   ]
  },
  {
   "cell_type": "code",
   "execution_count": 5,
   "metadata": {},
   "outputs": [],
   "source": [
    "def process_file(year):\n",
    "    # Define the filename\n",
    "    filename = f'time_series_deps_destinations_{year}_@above10K.csv'\n",
    "\n",
    "    # Read the csv file into a DataFrame\n",
    "    df = pd.read_csv(filename)\n",
    "    \n",
    "    # Drop unnecessary columns\n",
    "    df = df.drop(columns=['ORIGIN_AIRPORT_ID', 'ORIGIN_STATE_ABR', 'CODE', 'NAME'])\n",
    "    \n",
    "    # Define the group by columns\n",
    "    group_by_cols = ['AIRLINE_ID', 'UNIQUE_CARRIER_NAME', 'DEST_AIRPORT_ID', 'DEST', 'DEST_CITY_NAME', 'DEST_STATE_ABR']\n",
    "    \n",
    "    # Define the columns to sum\n",
    "    sum_cols = ['Jan', 'Feb', 'Mar', 'Apr', 'May', 'Jun', 'Jul', 'Aug', 'Sep', 'Oct', 'Nov', 'Dec', 'total']\n",
    "    \n",
    "    # Group by the columns and calculate the sum\n",
    "    output_df = df.groupby(group_by_cols)[sum_cols].sum().reset_index()\n",
    "\n",
    "    # Save the final DataFrame to a csv file\n",
    "    output_df.to_csv(f'time_series_dest_deps_by_airline_{year}_@above10K.csv', index=False)\n",
    "\n",
    "years = ['2019', '2020', '2021', '2022']\n",
    "for year in years:\n",
    "    process_file(year)\n"
   ]
  },
  {
   "cell_type": "code",
   "execution_count": null,
   "metadata": {},
   "outputs": [],
   "source": []
  }
 ],
 "metadata": {
  "kernelspec": {
   "display_name": "Python 3",
   "language": "python",
   "name": "python3"
  },
  "language_info": {
   "codemirror_mode": {
    "name": "ipython",
    "version": 3
   },
   "file_extension": ".py",
   "mimetype": "text/x-python",
   "name": "python",
   "nbconvert_exporter": "python",
   "pygments_lexer": "ipython3",
   "version": "3.11.0"
  },
  "orig_nbformat": 4
 },
 "nbformat": 4,
 "nbformat_minor": 2
}
