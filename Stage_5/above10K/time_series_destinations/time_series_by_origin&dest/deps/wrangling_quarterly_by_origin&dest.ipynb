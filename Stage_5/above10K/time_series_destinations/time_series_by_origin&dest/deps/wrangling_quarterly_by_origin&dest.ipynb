{
 "cells": [
  {
   "cell_type": "code",
   "execution_count": 1,
   "metadata": {},
   "outputs": [],
   "source": [
    "import pandas as pd"
   ]
  },
  {
   "cell_type": "code",
   "execution_count": 11,
   "metadata": {},
   "outputs": [
    {
     "name": "stdout",
     "output_type": "stream",
     "text": [
      " Volume in drive C has no label.\n",
      " Volume Serial Number is 322A-B5F7\n",
      "\n",
      " Directory of c:\\Users\\Juhana\\Desktop\\Masters_New\\above10K\\time_series_destinations\\time_series_by_origin&dest\\deps\n",
      "\n",
      "06/16/2023  01:49 PM    <DIR>          .\n",
      "06/16/2023  01:49 PM    <DIR>          ..\n",
      "06/16/2023  01:42 PM         1,857,612 annual_time_series_deps_by_origin&dest.csv\n",
      "06/16/2023  01:49 PM         2,724,082 quarterly_time_series_deps_by_origin&dest.csv\n",
      "06/16/2023  01:06 PM         1,886,597 time_series_deps_by_origin&dest_2019_@above10K.csv\n",
      "06/16/2023  01:06 PM         1,478,341 time_series_deps_by_origin&dest_2020_@above10K.csv\n",
      "06/16/2023  01:06 PM         1,768,139 time_series_deps_by_origin&dest_2021_@above10K.csv\n",
      "06/16/2023  01:06 PM         1,797,380 time_series_deps_by_origin&dest_2022_@above10K.csv\n",
      "06/16/2023  01:43 PM             7,547 wrangling_annual_by_origin&dest.ipynb\n",
      "06/16/2023  01:44 PM             2,403 wrangling_quarterly_by_origin&dest.ipynb\n",
      "               8 File(s)     11,522,101 bytes\n",
      "               2 Dir(s)  81,653,506,048 bytes free\n"
     ]
    }
   ],
   "source": [
    "!dir"
   ]
  },
  {
   "cell_type": "code",
   "execution_count": 4,
   "metadata": {},
   "outputs": [],
   "source": [
    "df = pd.read_csv('time_series_deps_by_origin&dest_2019_@above10K.csv')"
   ]
  },
  {
   "cell_type": "code",
   "execution_count": 5,
   "metadata": {},
   "outputs": [
    {
     "data": {
      "text/plain": [
       "Index(['ORIGIN_AIRPORT_ID', 'ORIGIN_STATE_ABR', 'CODE', 'NAME',\n",
       "       'DEST_AIRPORT_ID', 'DEST', 'DEST_CITY_NAME', 'DEST_STATE_ABR', 'Jan',\n",
       "       'Feb', 'Mar', 'Apr', 'May', 'Jun', 'Jul', 'Aug', 'Sep', 'Oct', 'Nov',\n",
       "       'Dec', 'total'],\n",
       "      dtype='object')"
      ]
     },
     "execution_count": 5,
     "metadata": {},
     "output_type": "execute_result"
    }
   ],
   "source": [
    "df.columns"
   ]
  },
  {
   "cell_type": "code",
   "execution_count": 10,
   "metadata": {},
   "outputs": [
    {
     "ename": "FileNotFoundError",
     "evalue": "[Errno 2] No such file or directory: 'time_series_pax_by_origin&dest_2019_@above10K.csv'",
     "output_type": "error",
     "traceback": [
      "\u001b[1;31m---------------------------------------------------------------------------\u001b[0m",
      "\u001b[1;31mFileNotFoundError\u001b[0m                         Traceback (most recent call last)",
      "\u001b[1;32mc:\\Users\\Juhana\\Desktop\\Masters_New\\above10K\\time_series_destinations\\time_series_by_origin&dest\\deps\\wrangling_quarterly_by_origin&dest.ipynb Cell 5\u001b[0m in \u001b[0;36m1\n\u001b[0;32m     <a href='vscode-notebook-cell:/c%3A/Users/Juhana/Desktop/Masters_New/above10K/time_series_destinations/time_series_by_origin%26dest/deps/wrangling_quarterly_by_origin%26dest.ipynb#W2sZmlsZQ%3D%3D?line=14'>15</a>\u001b[0m \u001b[39mfor\u001b[39;00m year \u001b[39min\u001b[39;00m years:\n\u001b[0;32m     <a href='vscode-notebook-cell:/c%3A/Users/Juhana/Desktop/Masters_New/above10K/time_series_destinations/time_series_by_origin%26dest/deps/wrangling_quarterly_by_origin%26dest.ipynb#W2sZmlsZQ%3D%3D?line=15'>16</a>\u001b[0m     \u001b[39m# Load the data\u001b[39;00m\n\u001b[0;32m     <a href='vscode-notebook-cell:/c%3A/Users/Juhana/Desktop/Masters_New/above10K/time_series_destinations/time_series_by_origin%26dest/deps/wrangling_quarterly_by_origin%26dest.ipynb#W2sZmlsZQ%3D%3D?line=16'>17</a>\u001b[0m     filename \u001b[39m=\u001b[39m \u001b[39mf\u001b[39m\u001b[39m\"\u001b[39m\u001b[39mtime_series_pax_by_origin&dest_\u001b[39m\u001b[39m{\u001b[39;00myear\u001b[39m}\u001b[39;00m\u001b[39m_@above10K.csv\u001b[39m\u001b[39m\"\u001b[39m\n\u001b[1;32m---> <a href='vscode-notebook-cell:/c%3A/Users/Juhana/Desktop/Masters_New/above10K/time_series_destinations/time_series_by_origin%26dest/deps/wrangling_quarterly_by_origin%26dest.ipynb#W2sZmlsZQ%3D%3D?line=17'>18</a>\u001b[0m     df \u001b[39m=\u001b[39m pd\u001b[39m.\u001b[39;49mread_csv(filename)\n\u001b[0;32m     <a href='vscode-notebook-cell:/c%3A/Users/Juhana/Desktop/Masters_New/above10K/time_series_destinations/time_series_by_origin%26dest/deps/wrangling_quarterly_by_origin%26dest.ipynb#W2sZmlsZQ%3D%3D?line=19'>20</a>\u001b[0m     \u001b[39m# Calculate the quarterly totals\u001b[39;00m\n\u001b[0;32m     <a href='vscode-notebook-cell:/c%3A/Users/Juhana/Desktop/Masters_New/above10K/time_series_destinations/time_series_by_origin%26dest/deps/wrangling_quarterly_by_origin%26dest.ipynb#W2sZmlsZQ%3D%3D?line=20'>21</a>\u001b[0m     \u001b[39mfor\u001b[39;00m quarter, months \u001b[39min\u001b[39;00m quarters\u001b[39m.\u001b[39mitems():\n",
      "File \u001b[1;32mc:\\Users\\Juhana\\scoop\\apps\\pyenv\\current\\pyenv-win\\versions\\3.11.0rc2\\Lib\\site-packages\\pandas\\util\\_decorators.py:211\u001b[0m, in \u001b[0;36mdeprecate_kwarg.<locals>._deprecate_kwarg.<locals>.wrapper\u001b[1;34m(*args, **kwargs)\u001b[0m\n\u001b[0;32m    209\u001b[0m     \u001b[39melse\u001b[39;00m:\n\u001b[0;32m    210\u001b[0m         kwargs[new_arg_name] \u001b[39m=\u001b[39m new_arg_value\n\u001b[1;32m--> 211\u001b[0m \u001b[39mreturn\u001b[39;00m func(\u001b[39m*\u001b[39;49margs, \u001b[39m*\u001b[39;49m\u001b[39m*\u001b[39;49mkwargs)\n",
      "File \u001b[1;32mc:\\Users\\Juhana\\scoop\\apps\\pyenv\\current\\pyenv-win\\versions\\3.11.0rc2\\Lib\\site-packages\\pandas\\util\\_decorators.py:331\u001b[0m, in \u001b[0;36mdeprecate_nonkeyword_arguments.<locals>.decorate.<locals>.wrapper\u001b[1;34m(*args, **kwargs)\u001b[0m\n\u001b[0;32m    325\u001b[0m \u001b[39mif\u001b[39;00m \u001b[39mlen\u001b[39m(args) \u001b[39m>\u001b[39m num_allow_args:\n\u001b[0;32m    326\u001b[0m     warnings\u001b[39m.\u001b[39mwarn(\n\u001b[0;32m    327\u001b[0m         msg\u001b[39m.\u001b[39mformat(arguments\u001b[39m=\u001b[39m_format_argument_list(allow_args)),\n\u001b[0;32m    328\u001b[0m         \u001b[39mFutureWarning\u001b[39;00m,\n\u001b[0;32m    329\u001b[0m         stacklevel\u001b[39m=\u001b[39mfind_stack_level(),\n\u001b[0;32m    330\u001b[0m     )\n\u001b[1;32m--> 331\u001b[0m \u001b[39mreturn\u001b[39;00m func(\u001b[39m*\u001b[39;49margs, \u001b[39m*\u001b[39;49m\u001b[39m*\u001b[39;49mkwargs)\n",
      "File \u001b[1;32mc:\\Users\\Juhana\\scoop\\apps\\pyenv\\current\\pyenv-win\\versions\\3.11.0rc2\\Lib\\site-packages\\pandas\\io\\parsers\\readers.py:950\u001b[0m, in \u001b[0;36mread_csv\u001b[1;34m(filepath_or_buffer, sep, delimiter, header, names, index_col, usecols, squeeze, prefix, mangle_dupe_cols, dtype, engine, converters, true_values, false_values, skipinitialspace, skiprows, skipfooter, nrows, na_values, keep_default_na, na_filter, verbose, skip_blank_lines, parse_dates, infer_datetime_format, keep_date_col, date_parser, dayfirst, cache_dates, iterator, chunksize, compression, thousands, decimal, lineterminator, quotechar, quoting, doublequote, escapechar, comment, encoding, encoding_errors, dialect, error_bad_lines, warn_bad_lines, on_bad_lines, delim_whitespace, low_memory, memory_map, float_precision, storage_options)\u001b[0m\n\u001b[0;32m    935\u001b[0m kwds_defaults \u001b[39m=\u001b[39m _refine_defaults_read(\n\u001b[0;32m    936\u001b[0m     dialect,\n\u001b[0;32m    937\u001b[0m     delimiter,\n\u001b[1;32m   (...)\u001b[0m\n\u001b[0;32m    946\u001b[0m     defaults\u001b[39m=\u001b[39m{\u001b[39m\"\u001b[39m\u001b[39mdelimiter\u001b[39m\u001b[39m\"\u001b[39m: \u001b[39m\"\u001b[39m\u001b[39m,\u001b[39m\u001b[39m\"\u001b[39m},\n\u001b[0;32m    947\u001b[0m )\n\u001b[0;32m    948\u001b[0m kwds\u001b[39m.\u001b[39mupdate(kwds_defaults)\n\u001b[1;32m--> 950\u001b[0m \u001b[39mreturn\u001b[39;00m _read(filepath_or_buffer, kwds)\n",
      "File \u001b[1;32mc:\\Users\\Juhana\\scoop\\apps\\pyenv\\current\\pyenv-win\\versions\\3.11.0rc2\\Lib\\site-packages\\pandas\\io\\parsers\\readers.py:605\u001b[0m, in \u001b[0;36m_read\u001b[1;34m(filepath_or_buffer, kwds)\u001b[0m\n\u001b[0;32m    602\u001b[0m _validate_names(kwds\u001b[39m.\u001b[39mget(\u001b[39m\"\u001b[39m\u001b[39mnames\u001b[39m\u001b[39m\"\u001b[39m, \u001b[39mNone\u001b[39;00m))\n\u001b[0;32m    604\u001b[0m \u001b[39m# Create the parser.\u001b[39;00m\n\u001b[1;32m--> 605\u001b[0m parser \u001b[39m=\u001b[39m TextFileReader(filepath_or_buffer, \u001b[39m*\u001b[39;49m\u001b[39m*\u001b[39;49mkwds)\n\u001b[0;32m    607\u001b[0m \u001b[39mif\u001b[39;00m chunksize \u001b[39mor\u001b[39;00m iterator:\n\u001b[0;32m    608\u001b[0m     \u001b[39mreturn\u001b[39;00m parser\n",
      "File \u001b[1;32mc:\\Users\\Juhana\\scoop\\apps\\pyenv\\current\\pyenv-win\\versions\\3.11.0rc2\\Lib\\site-packages\\pandas\\io\\parsers\\readers.py:1442\u001b[0m, in \u001b[0;36mTextFileReader.__init__\u001b[1;34m(self, f, engine, **kwds)\u001b[0m\n\u001b[0;32m   1439\u001b[0m     \u001b[39mself\u001b[39m\u001b[39m.\u001b[39moptions[\u001b[39m\"\u001b[39m\u001b[39mhas_index_names\u001b[39m\u001b[39m\"\u001b[39m] \u001b[39m=\u001b[39m kwds[\u001b[39m\"\u001b[39m\u001b[39mhas_index_names\u001b[39m\u001b[39m\"\u001b[39m]\n\u001b[0;32m   1441\u001b[0m \u001b[39mself\u001b[39m\u001b[39m.\u001b[39mhandles: IOHandles \u001b[39m|\u001b[39m \u001b[39mNone\u001b[39;00m \u001b[39m=\u001b[39m \u001b[39mNone\u001b[39;00m\n\u001b[1;32m-> 1442\u001b[0m \u001b[39mself\u001b[39m\u001b[39m.\u001b[39m_engine \u001b[39m=\u001b[39m \u001b[39mself\u001b[39;49m\u001b[39m.\u001b[39;49m_make_engine(f, \u001b[39mself\u001b[39;49m\u001b[39m.\u001b[39;49mengine)\n",
      "File \u001b[1;32mc:\\Users\\Juhana\\scoop\\apps\\pyenv\\current\\pyenv-win\\versions\\3.11.0rc2\\Lib\\site-packages\\pandas\\io\\parsers\\readers.py:1735\u001b[0m, in \u001b[0;36mTextFileReader._make_engine\u001b[1;34m(self, f, engine)\u001b[0m\n\u001b[0;32m   1733\u001b[0m     \u001b[39mif\u001b[39;00m \u001b[39m\"\u001b[39m\u001b[39mb\u001b[39m\u001b[39m\"\u001b[39m \u001b[39mnot\u001b[39;00m \u001b[39min\u001b[39;00m mode:\n\u001b[0;32m   1734\u001b[0m         mode \u001b[39m+\u001b[39m\u001b[39m=\u001b[39m \u001b[39m\"\u001b[39m\u001b[39mb\u001b[39m\u001b[39m\"\u001b[39m\n\u001b[1;32m-> 1735\u001b[0m \u001b[39mself\u001b[39m\u001b[39m.\u001b[39mhandles \u001b[39m=\u001b[39m get_handle(\n\u001b[0;32m   1736\u001b[0m     f,\n\u001b[0;32m   1737\u001b[0m     mode,\n\u001b[0;32m   1738\u001b[0m     encoding\u001b[39m=\u001b[39;49m\u001b[39mself\u001b[39;49m\u001b[39m.\u001b[39;49moptions\u001b[39m.\u001b[39;49mget(\u001b[39m\"\u001b[39;49m\u001b[39mencoding\u001b[39;49m\u001b[39m\"\u001b[39;49m, \u001b[39mNone\u001b[39;49;00m),\n\u001b[0;32m   1739\u001b[0m     compression\u001b[39m=\u001b[39;49m\u001b[39mself\u001b[39;49m\u001b[39m.\u001b[39;49moptions\u001b[39m.\u001b[39;49mget(\u001b[39m\"\u001b[39;49m\u001b[39mcompression\u001b[39;49m\u001b[39m\"\u001b[39;49m, \u001b[39mNone\u001b[39;49;00m),\n\u001b[0;32m   1740\u001b[0m     memory_map\u001b[39m=\u001b[39;49m\u001b[39mself\u001b[39;49m\u001b[39m.\u001b[39;49moptions\u001b[39m.\u001b[39;49mget(\u001b[39m\"\u001b[39;49m\u001b[39mmemory_map\u001b[39;49m\u001b[39m\"\u001b[39;49m, \u001b[39mFalse\u001b[39;49;00m),\n\u001b[0;32m   1741\u001b[0m     is_text\u001b[39m=\u001b[39;49mis_text,\n\u001b[0;32m   1742\u001b[0m     errors\u001b[39m=\u001b[39;49m\u001b[39mself\u001b[39;49m\u001b[39m.\u001b[39;49moptions\u001b[39m.\u001b[39;49mget(\u001b[39m\"\u001b[39;49m\u001b[39mencoding_errors\u001b[39;49m\u001b[39m\"\u001b[39;49m, \u001b[39m\"\u001b[39;49m\u001b[39mstrict\u001b[39;49m\u001b[39m\"\u001b[39;49m),\n\u001b[0;32m   1743\u001b[0m     storage_options\u001b[39m=\u001b[39;49m\u001b[39mself\u001b[39;49m\u001b[39m.\u001b[39;49moptions\u001b[39m.\u001b[39;49mget(\u001b[39m\"\u001b[39;49m\u001b[39mstorage_options\u001b[39;49m\u001b[39m\"\u001b[39;49m, \u001b[39mNone\u001b[39;49;00m),\n\u001b[0;32m   1744\u001b[0m )\n\u001b[0;32m   1745\u001b[0m \u001b[39massert\u001b[39;00m \u001b[39mself\u001b[39m\u001b[39m.\u001b[39mhandles \u001b[39mis\u001b[39;00m \u001b[39mnot\u001b[39;00m \u001b[39mNone\u001b[39;00m\n\u001b[0;32m   1746\u001b[0m f \u001b[39m=\u001b[39m \u001b[39mself\u001b[39m\u001b[39m.\u001b[39mhandles\u001b[39m.\u001b[39mhandle\n",
      "File \u001b[1;32mc:\\Users\\Juhana\\scoop\\apps\\pyenv\\current\\pyenv-win\\versions\\3.11.0rc2\\Lib\\site-packages\\pandas\\io\\common.py:856\u001b[0m, in \u001b[0;36mget_handle\u001b[1;34m(path_or_buf, mode, encoding, compression, memory_map, is_text, errors, storage_options)\u001b[0m\n\u001b[0;32m    851\u001b[0m \u001b[39melif\u001b[39;00m \u001b[39misinstance\u001b[39m(handle, \u001b[39mstr\u001b[39m):\n\u001b[0;32m    852\u001b[0m     \u001b[39m# Check whether the filename is to be opened in binary mode.\u001b[39;00m\n\u001b[0;32m    853\u001b[0m     \u001b[39m# Binary mode does not support 'encoding' and 'newline'.\u001b[39;00m\n\u001b[0;32m    854\u001b[0m     \u001b[39mif\u001b[39;00m ioargs\u001b[39m.\u001b[39mencoding \u001b[39mand\u001b[39;00m \u001b[39m\"\u001b[39m\u001b[39mb\u001b[39m\u001b[39m\"\u001b[39m \u001b[39mnot\u001b[39;00m \u001b[39min\u001b[39;00m ioargs\u001b[39m.\u001b[39mmode:\n\u001b[0;32m    855\u001b[0m         \u001b[39m# Encoding\u001b[39;00m\n\u001b[1;32m--> 856\u001b[0m         handle \u001b[39m=\u001b[39m \u001b[39mopen\u001b[39m(\n\u001b[0;32m    857\u001b[0m             handle,\n\u001b[0;32m    858\u001b[0m             ioargs\u001b[39m.\u001b[39mmode,\n\u001b[0;32m    859\u001b[0m             encoding\u001b[39m=\u001b[39mioargs\u001b[39m.\u001b[39mencoding,\n\u001b[0;32m    860\u001b[0m             errors\u001b[39m=\u001b[39merrors,\n\u001b[0;32m    861\u001b[0m             newline\u001b[39m=\u001b[39m\u001b[39m\"\u001b[39m\u001b[39m\"\u001b[39m,\n\u001b[0;32m    862\u001b[0m         )\n\u001b[0;32m    863\u001b[0m     \u001b[39melse\u001b[39;00m:\n\u001b[0;32m    864\u001b[0m         \u001b[39m# Binary mode\u001b[39;00m\n\u001b[0;32m    865\u001b[0m         handle \u001b[39m=\u001b[39m \u001b[39mopen\u001b[39m(handle, ioargs\u001b[39m.\u001b[39mmode)\n",
      "\u001b[1;31mFileNotFoundError\u001b[0m: [Errno 2] No such file or directory: 'time_series_pax_by_origin&dest_2019_@above10K.csv'"
     ]
    }
   ],
   "source": [
    "# Define the quarters\n",
    "quarters = {\n",
    "    '1Q': ['Jan', 'Feb', 'Mar'],\n",
    "    '2Q': ['Apr', 'May', 'Jun'],\n",
    "    '3Q': ['Jul', 'Aug', 'Sep'],\n",
    "    '4Q': ['Oct', 'Nov', 'Dec'],\n",
    "}\n",
    "\n",
    "# Define the years\n",
    "years = ['2019', '2020', '2021', '2022']\n",
    "\n",
    "# Initial dataframe\n",
    "output_df = None\n",
    "\n",
    "for year in years:\n",
    "    # Load the data\n",
    "    filename = f\"time_series_pax_by_origin&dest_{year}_@above10K.csv\"\n",
    "    df = pd.read_csv(filename)\n",
    "\n",
    "    # Calculate the quarterly totals\n",
    "    for quarter, months in quarters.items():\n",
    "        df[f'{year}_{quarter}'] = df[months].sum(axis=1)\n",
    "    \n",
    "    # Flatten the list of lists into a single list\n",
    "    months = [month for sublist in quarters.values() for month in sublist]\n",
    "\n",
    "    df_quarterly = df.drop(months + ['total'], axis=1, errors='ignore')\n",
    "\n",
    "    # Merge with the output dataframe\n",
    "    if output_df is None:\n",
    "        output_df = df_quarterly\n",
    "    else:\n",
    "        output_df = pd.merge(output_df, df_quarterly, how='outer', \n",
    "                             on=['ORIGIN_AIRPORT_ID', 'ORIGIN_STATE_ABR', 'CODE', 'NAME',\n",
    "       'DEST_AIRPORT_ID', 'DEST', 'DEST_CITY_NAME', 'DEST_STATE_ABR'])\n",
    "\n",
    "# Save the output to a single file\n",
    "output_df.to_csv('quarterly_time_series_pax_by_origin&dest.csv', index=False)\n",
    "\n",
    "\n",
    "\n"
   ]
  },
  {
   "cell_type": "code",
   "execution_count": 7,
   "metadata": {},
   "outputs": [],
   "source": [
    "df2 = pd.read_csv('quarterly_time_series_deps_by_origin&dest.csv')"
   ]
  },
  {
   "cell_type": "code",
   "execution_count": 9,
   "metadata": {},
   "outputs": [
    {
     "name": "stdout",
     "output_type": "stream",
     "text": [
      "Number of unique ORIGIN_AIRPORT_ID: 354\n",
      "List of unique ORIGIN_AIRPORT_ID: [10135, 10136, 10140, 10141, 10146, 10154, 10155, 10157, 10158, 10185, 10208, 10257, 10268, 10275, 10279, 10333, 10361, 10372, 10397, 10408, 10409, 10423, 10431, 10434, 10466, 10469, 10529, 10558, 10559, 10561, 10562, 10577, 10581, 10599, 10613, 10620, 10627, 10631, 10643, 10654, 10666, 10676, 10685, 10693, 10713, 10721, 10728, 10731, 10739, 10747, 10779, 10781, 10785, 10792, 10800, 10821, 10849, 10868, 10874, 10918, 10967, 10980, 10990, 10994, 11003, 11013, 11027, 11042, 11049, 11057, 11066, 11067, 11076, 11092, 11097, 11109, 11111, 11122, 11140, 11146, 11150, 11193, 11197, 11203, 11233, 11252, 11259, 11267, 11274, 11278, 11288, 11292, 11298, 11308, 11315, 11337, 11413, 11415, 11423, 11433, 11447, 11468, 11470, 11471, 11481, 11503, 11525, 11537, 11540, 11577, 11587, 11603, 11612, 11617, 11618, 11624, 11637, 11638, 11641, 11648, 11695, 11697, 11699, 11721, 11762, 11775, 11778, 11823, 11865, 11867, 11884, 11898, 11905, 11921, 11953, 11973, 11977, 11980, 11982, 11986, 11995, 11996, 12003, 12007, 12012, 12094, 12119, 12124, 12129, 12156, 12177, 12191, 12197, 12206, 12217, 12223, 12244, 12250, 12255, 12264, 12265, 12266, 12278, 12280, 12323, 12335, 12339, 12343, 12365, 12391, 12397, 12441, 12448, 12451, 12478, 12511, 12519, 12544, 12884, 12888, 12889, 12891, 12892, 12896, 12898, 12899, 12902, 12915, 12917, 12932, 12945, 12951, 12953, 12954, 12992, 13002, 13029, 13061, 13076, 13121, 13127, 13139, 13158, 13184, 13198, 13203, 13204, 13230, 13232, 13241, 13244, 13256, 13264, 13277, 13290, 13296, 13303, 13342, 13344, 13360, 13367, 13377, 13388, 13422, 13433, 13459, 13476, 13485, 13486, 13487, 13495, 13502, 13541, 13543, 13577, 13795, 13796, 13829, 13832, 13851, 13871, 13891, 13930, 13931, 13933, 13964, 13983, 14004, 14006, 14025, 14027, 14057, 14081, 14082, 14092, 14098, 14100, 14107, 14108, 14109, 14112, 14113, 14120, 14122, 14150, 14193, 14231, 14237, 14252, 14259, 14262, 14288, 14303, 14306, 14307, 14314, 14321, 14457, 14487, 14489, 14492, 14512, 14520, 14524, 14534, 14543, 14570, 14574, 14576, 14588, 14633, 14635, 14674, 14679, 14683, 14685, 14689, 14696, 14698, 14704, 14711, 14716, 14730, 14747, 14761, 14771, 14783, 14794, 14802, 14812, 14814, 14831, 14842, 14869, 14877, 14893, 14905, 14908, 14952, 14960, 14986, 15008, 15016, 15023, 15041, 15048, 15070, 15074, 15096, 15177, 15249, 15295, 15304, 15323, 15356, 15370, 15374, 15376, 15380, 15389, 15401, 15411, 15412, 15454, 15582, 15607, 15624, 15855, 15919, 16101, 16218, 16869, 10617, 11719]\n"
     ]
    }
   ],
   "source": [
    "# Get a list of unique 'ORIGIN_AIRPORT_ID'\n",
    "unique_origin_airport_ids = df2['ORIGIN_AIRPORT_ID'].unique()\n",
    "\n",
    "# Calculate the number of unique 'ORIGIN_AIRPORT_ID'\n",
    "num_unique_origin_airport_ids = len(unique_origin_airport_ids)\n",
    "\n",
    "# Print the number of unique 'ORIGIN_AIRPORT_ID'\n",
    "print(f\"Number of unique ORIGIN_AIRPORT_ID: {num_unique_origin_airport_ids}\")\n",
    "\n",
    "# Print the list of unique 'ORIGIN_AIRPORT_ID'\n",
    "print(f\"List of unique ORIGIN_AIRPORT_ID: {list(unique_origin_airport_ids)}\")\n"
   ]
  },
  {
   "cell_type": "code",
   "execution_count": null,
   "metadata": {},
   "outputs": [],
   "source": []
  }
 ],
 "metadata": {
  "kernelspec": {
   "display_name": "Python 3",
   "language": "python",
   "name": "python3"
  },
  "language_info": {
   "codemirror_mode": {
    "name": "ipython",
    "version": 3
   },
   "file_extension": ".py",
   "mimetype": "text/x-python",
   "name": "python",
   "nbconvert_exporter": "python",
   "pygments_lexer": "ipython3",
   "version": "3.11.0rc2"
  },
  "orig_nbformat": 4
 },
 "nbformat": 4,
 "nbformat_minor": 2
}
