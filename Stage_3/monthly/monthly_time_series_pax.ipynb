{
 "cells": [
  {
   "cell_type": "code",
   "execution_count": 1,
   "metadata": {},
   "outputs": [],
   "source": [
    "import pandas as pd"
   ]
  },
  {
   "cell_type": "code",
   "execution_count": 4,
   "metadata": {},
   "outputs": [],
   "source": [
    "# Define the months in order\n",
    "months = ['Jan', 'Feb', 'Mar', 'Apr', 'May', 'Jun', 'Jul', 'Aug', 'Sep', 'Oct', 'Nov', 'Dec']\n",
    "# Define the years\n",
    "years = ['2019', '2020', '2021', '2022']\n",
    "\n",
    "# Loop through each year\n",
    "for year in years:\n",
    "    # Define your initial DataFrame with just two columns\n",
    "    output_df = pd.DataFrame(columns=['ORIGIN_AIRPORT_ID', 'ORIGIN_STATE_ABR'])\n",
    "\n",
    "    # Loop through each month\n",
    "    for month in months:\n",
    "        # Define the filename\n",
    "        filename = f'{year}/flight&pax{year}/flight&pax_{month}{year}.csv'\n",
    "        \n",
    "        # Read the csv file into a DataFrame\n",
    "        df = pd.read_csv(filename)\n",
    "        \n",
    "        # Merge the read DataFrame with your output DataFrame, adding a column with the month as its name\n",
    "        output_df = pd.merge(output_df, df[['ORIGIN_AIRPORT_ID', 'ORIGIN_STATE_ABR', 'PASSENGERS']], \n",
    "                             on=['ORIGIN_AIRPORT_ID', 'ORIGIN_STATE_ABR'], how='outer')\n",
    "\n",
    "        # Rename the 'DEPARTURES_PERFORMED' column to the respective month\n",
    "        output_df = output_df.rename(columns={'PASSENGERS': month})\n",
    "\n",
    "    # Add the 'total' column, which is the sum of all month columns for each row\n",
    "    output_df['total'] = output_df[months].sum(axis=1)\n",
    "\n",
    "    # Drop rows where 'ORIGIN_STATE_ABR' is null\n",
    "    output_df = output_df.dropna(subset=['ORIGIN_STATE_ABR'])\n",
    "\n",
    "    # Save the final DataFrame to a csv file\n",
    "    output_df.to_csv(f'time_series_deps_airport_{year}.csv', index=False)\n",
    "\n",
    "\n",
    "\n"
   ]
  },
  {
   "cell_type": "code",
   "execution_count": 10,
   "metadata": {},
   "outputs": [],
   "source": []
  },
  {
   "cell_type": "code",
   "execution_count": null,
   "metadata": {},
   "outputs": [],
   "source": []
  }
 ],
 "metadata": {
  "kernelspec": {
   "display_name": "Python 3",
   "language": "python",
   "name": "python3"
  },
  "language_info": {
   "codemirror_mode": {
    "name": "ipython",
    "version": 3
   },
   "file_extension": ".py",
   "mimetype": "text/x-python",
   "name": "python",
   "nbconvert_exporter": "python",
   "pygments_lexer": "ipython3",
   "version": "3.11.0"
  },
  "orig_nbformat": 4
 },
 "nbformat": 4,
 "nbformat_minor": 2
}
