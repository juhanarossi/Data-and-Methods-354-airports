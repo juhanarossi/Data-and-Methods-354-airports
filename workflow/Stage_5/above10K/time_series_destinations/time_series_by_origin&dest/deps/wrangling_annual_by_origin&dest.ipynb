{
 "cells": [
  {
   "cell_type": "code",
   "execution_count": 1,
   "metadata": {},
   "outputs": [],
   "source": [
    "import pandas as pd "
   ]
  },
  {
   "cell_type": "code",
   "execution_count": 2,
   "metadata": {},
   "outputs": [
    {
     "name": "stdout",
     "output_type": "stream",
     "text": [
      " Volume in drive C has no label.\n",
      " Volume Serial Number is 322A-B5F7\n",
      "\n",
      " Directory of c:\\Users\\Juhana\\Desktop\\Masters_New\\above10K\\time_series_destinations\\time_series_by_origin&dest\\deps\n",
      "\n",
      "06/16/2023  01:15 PM    <DIR>          .\n",
      "06/16/2023  01:15 PM    <DIR>          ..\n",
      "06/16/2023  01:06 PM         1,886,597 time_series_deps_by_origin&dest_2019_@above10K.csv\n",
      "06/16/2023  01:06 PM         1,478,341 time_series_deps_by_origin&dest_2020_@above10K.csv\n",
      "06/16/2023  01:06 PM         1,768,139 time_series_deps_by_origin&dest_2021_@above10K.csv\n",
      "06/16/2023  01:06 PM         1,797,380 time_series_deps_by_origin&dest_2022_@above10K.csv\n",
      "06/16/2023  01:15 PM             2,007 wrangling_annual_by_origin&dest.ipynb\n",
      "               5 File(s)      6,932,464 bytes\n",
      "               2 Dir(s)  81,839,882,240 bytes free\n"
     ]
    }
   ],
   "source": [
    "!dir"
   ]
  },
  {
   "cell_type": "code",
   "execution_count": 3,
   "metadata": {},
   "outputs": [],
   "source": [
    "df = pd.read_csv('time_series_deps_by_origin&dest_2019_@above10K.csv')"
   ]
  },
  {
   "cell_type": "code",
   "execution_count": 4,
   "metadata": {},
   "outputs": [
    {
     "data": {
      "text/plain": [
       "Index(['ORIGIN_AIRPORT_ID', 'ORIGIN_STATE_ABR', 'CODE', 'NAME',\n",
       "       'DEST_AIRPORT_ID', 'DEST', 'DEST_CITY_NAME', 'DEST_STATE_ABR', 'Jan',\n",
       "       'Feb', 'Mar', 'Apr', 'May', 'Jun', 'Jul', 'Aug', 'Sep', 'Oct', 'Nov',\n",
       "       'Dec', 'total'],\n",
       "      dtype='object')"
      ]
     },
     "execution_count": 4,
     "metadata": {},
     "output_type": "execute_result"
    }
   ],
   "source": [
    "df.columns"
   ]
  },
  {
   "cell_type": "code",
   "execution_count": 5,
   "metadata": {},
   "outputs": [],
   "source": [
    "# Define the list of years\n",
    "years = ['2019', '2020', '2021', '2022']\n",
    "\n",
    "# List of months\n",
    "months = ['Jan', 'Feb', 'Mar', 'Apr', 'May', 'Jun', 'Jul', 'Aug', 'Sep', 'Oct', 'Nov', 'Dec']\n",
    "\n",
    "# Initial dataframe\n",
    "output_df = None\n",
    "\n",
    "for year in years:\n",
    "    # Load the data\n",
    "    filename = f\"time_series_deps_by_origin&dest_{year}_@above10K.csv\"\n",
    "    df = pd.read_csv(filename)\n",
    "\n",
    "    # Calculate the annual total and create a new dataframe with it\n",
    "    df[year] = df[months].sum(axis=1)\n",
    "    df_yearly = df.drop(months + ['total'], axis=1)\n",
    "\n",
    "    # Merge with the output dataframe\n",
    "    if output_df is None:\n",
    "        output_df = df_yearly\n",
    "    else:\n",
    "        output_df = pd.merge(output_df, df_yearly, how='outer', on=['ORIGIN_AIRPORT_ID', 'ORIGIN_STATE_ABR', 'CODE', 'NAME',\n",
    "       'DEST_AIRPORT_ID', 'DEST', 'DEST_CITY_NAME', 'DEST_STATE_ABR'])\n",
    "\n",
    "# Save the output to a single file\n",
    "output_df.to_csv('annual_time_series_deps_by_origin&dest.csv', index=False)\n",
    "\n"
   ]
  },
  {
   "cell_type": "code",
   "execution_count": 8,
   "metadata": {},
   "outputs": [],
   "source": [
    "df2 = pd.read_csv('annual_time_series_deps_by_origin&dest.csv')"
   ]
  },
  {
   "cell_type": "code",
   "execution_count": 9,
   "metadata": {},
   "outputs": [
    {
     "name": "stdout",
     "output_type": "stream",
     "text": [
      "Number of unique ORIGIN_AIRPORT_ID: 354\n",
      "List of unique ORIGIN_AIRPORT_ID: [10135, 10136, 10140, 10141, 10146, 10154, 10155, 10157, 10158, 10185, 10208, 10257, 10268, 10275, 10279, 10333, 10361, 10372, 10397, 10408, 10409, 10423, 10431, 10434, 10466, 10469, 10529, 10558, 10559, 10561, 10562, 10577, 10581, 10599, 10613, 10620, 10627, 10631, 10643, 10654, 10666, 10676, 10685, 10693, 10713, 10721, 10728, 10731, 10739, 10747, 10779, 10781, 10785, 10792, 10800, 10821, 10849, 10868, 10874, 10918, 10967, 10980, 10990, 10994, 11003, 11013, 11027, 11042, 11049, 11057, 11066, 11067, 11076, 11092, 11097, 11109, 11111, 11122, 11140, 11146, 11150, 11193, 11197, 11203, 11233, 11252, 11259, 11267, 11274, 11278, 11288, 11292, 11298, 11308, 11315, 11337, 11413, 11415, 11423, 11433, 11447, 11468, 11470, 11471, 11481, 11503, 11525, 11537, 11540, 11577, 11587, 11603, 11612, 11617, 11618, 11624, 11637, 11638, 11641, 11648, 11695, 11697, 11699, 11721, 11762, 11775, 11778, 11823, 11865, 11867, 11884, 11898, 11905, 11921, 11953, 11973, 11977, 11980, 11982, 11986, 11995, 11996, 12003, 12007, 12012, 12094, 12119, 12124, 12129, 12156, 12177, 12191, 12197, 12206, 12217, 12223, 12244, 12250, 12255, 12264, 12265, 12266, 12278, 12280, 12323, 12335, 12339, 12343, 12365, 12391, 12397, 12441, 12448, 12451, 12478, 12511, 12519, 12544, 12884, 12888, 12889, 12891, 12892, 12896, 12898, 12899, 12902, 12915, 12917, 12932, 12945, 12951, 12953, 12954, 12992, 13002, 13029, 13061, 13076, 13121, 13127, 13139, 13158, 13184, 13198, 13203, 13204, 13230, 13232, 13241, 13244, 13256, 13264, 13277, 13290, 13296, 13303, 13342, 13344, 13360, 13367, 13377, 13388, 13422, 13433, 13459, 13476, 13485, 13486, 13487, 13495, 13502, 13541, 13543, 13577, 13795, 13796, 13829, 13832, 13851, 13871, 13891, 13930, 13931, 13933, 13964, 13983, 14004, 14006, 14025, 14027, 14057, 14081, 14082, 14092, 14098, 14100, 14107, 14108, 14109, 14112, 14113, 14120, 14122, 14150, 14193, 14231, 14237, 14252, 14259, 14262, 14288, 14303, 14306, 14307, 14314, 14321, 14457, 14487, 14489, 14492, 14512, 14520, 14524, 14534, 14543, 14570, 14574, 14576, 14588, 14633, 14635, 14674, 14679, 14683, 14685, 14689, 14696, 14698, 14704, 14711, 14716, 14730, 14747, 14761, 14771, 14783, 14794, 14802, 14812, 14814, 14831, 14842, 14869, 14877, 14893, 14905, 14908, 14952, 14960, 14986, 15008, 15016, 15023, 15041, 15048, 15070, 15074, 15096, 15177, 15249, 15295, 15304, 15323, 15356, 15370, 15374, 15376, 15380, 15389, 15401, 15411, 15412, 15454, 15582, 15607, 15624, 15855, 15919, 16101, 16218, 16869, 10617, 11719]\n"
     ]
    }
   ],
   "source": [
    "# Get a list of unique 'ORIGIN_AIRPORT_ID'\n",
    "unique_origin_airport_ids = df2['ORIGIN_AIRPORT_ID'].unique()\n",
    "\n",
    "# Calculate the number of unique 'ORIGIN_AIRPORT_ID'\n",
    "num_unique_origin_airport_ids = len(unique_origin_airport_ids)\n",
    "\n",
    "# Print the number of unique 'ORIGIN_AIRPORT_ID'\n",
    "print(f\"Number of unique ORIGIN_AIRPORT_ID: {num_unique_origin_airport_ids}\")\n",
    "\n",
    "# Print the list of unique 'ORIGIN_AIRPORT_ID'\n",
    "print(f\"List of unique ORIGIN_AIRPORT_ID: {list(unique_origin_airport_ids)}\")\n"
   ]
  },
  {
   "cell_type": "code",
   "execution_count": null,
   "metadata": {},
   "outputs": [],
   "source": []
  }
 ],
 "metadata": {
  "kernelspec": {
   "display_name": "Python 3",
   "language": "python",
   "name": "python3"
  },
  "language_info": {
   "codemirror_mode": {
    "name": "ipython",
    "version": 3
   },
   "file_extension": ".py",
   "mimetype": "text/x-python",
   "name": "python",
   "nbconvert_exporter": "python",
   "pygments_lexer": "ipython3",
   "version": "3.11.0rc2"
  },
  "orig_nbformat": 4
 },
 "nbformat": 4,
 "nbformat_minor": 2
}
