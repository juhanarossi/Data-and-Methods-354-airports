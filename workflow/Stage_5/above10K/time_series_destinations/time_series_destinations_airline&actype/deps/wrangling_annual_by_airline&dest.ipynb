{
 "cells": [
  {
   "cell_type": "code",
   "execution_count": 1,
   "metadata": {},
   "outputs": [],
   "source": [
    "import pandas as pd "
   ]
  },
  {
   "cell_type": "code",
   "execution_count": 2,
   "metadata": {},
   "outputs": [
    {
     "name": "stdout",
     "output_type": "stream",
     "text": [
      " Volume in drive C has no label.\n",
      " Volume Serial Number is 322A-B5F7\n",
      "\n",
      " Directory of c:\\Users\\Juhana\\Desktop\\Masters_New\\above10K\\time_series_destinations\\time_series_destinations_airline&actype\\deps\n",
      "\n",
      "06/18/2023  05:00 PM    <DIR>          .\n",
      "06/18/2023  05:00 PM    <DIR>          ..\n",
      "06/18/2023  03:54 PM             2,906 groupby_destinations_by_airline_annual.ipynb\n",
      "06/18/2023  09:15 AM         1,091,062 time_series_deps_by_airline&actype_2019_@above10K.csv\n",
      "06/18/2023  09:15 AM           919,803 time_series_deps_by_airline&actype_2020_@above10K.csv\n",
      "06/18/2023  09:15 AM           938,387 time_series_deps_by_airline&actype_2021_@above10K.csv\n",
      "06/18/2023  09:15 AM           997,617 time_series_deps_by_airline&actype_2022_@above10K.csv\n",
      "06/18/2023  09:16 AM           400,333 time_series_dest_deps_by_airline_2019_@above10K.csv\n",
      "06/18/2023  09:16 AM           361,346 time_series_dest_deps_by_airline_2020_@above10K.csv\n",
      "06/18/2023  09:16 AM           354,113 time_series_dest_deps_by_airline_2021_@above10K.csv\n",
      "06/18/2023  09:16 AM           364,285 time_series_dest_deps_by_airline_2022_@above10K.csv\n",
      "06/18/2023  05:00 PM             7,547 wrangling_annual_by_airline&dest.ipynb\n",
      "              10 File(s)      5,437,399 bytes\n",
      "               2 Dir(s)  84,438,044,672 bytes free\n"
     ]
    }
   ],
   "source": [
    "!dir"
   ]
  },
  {
   "cell_type": "code",
   "execution_count": 3,
   "metadata": {},
   "outputs": [],
   "source": [
    "df = pd.read_csv('time_series_dest_deps_by_airline_2019_@above10K.csv')"
   ]
  },
  {
   "cell_type": "code",
   "execution_count": 4,
   "metadata": {},
   "outputs": [
    {
     "data": {
      "text/plain": [
       "Index(['AIRLINE_ID', 'UNIQUE_CARRIER_NAME', 'DEST_AIRPORT_ID', 'DEST',\n",
       "       'DEST_CITY_NAME', 'DEST_STATE_ABR', 'Jan', 'Feb', 'Mar', 'Apr', 'May',\n",
       "       'Jun', 'Jul', 'Aug', 'Sep', 'Oct', 'Nov', 'Dec', 'total'],\n",
       "      dtype='object')"
      ]
     },
     "execution_count": 4,
     "metadata": {},
     "output_type": "execute_result"
    }
   ],
   "source": [
    "df.columns"
   ]
  },
  {
   "cell_type": "code",
   "execution_count": 6,
   "metadata": {},
   "outputs": [],
   "source": [
    "# Define the list of years\n",
    "years = ['2019', '2020', '2021', '2022']\n",
    "\n",
    "# List of months\n",
    "months = ['Jan', 'Feb', 'Mar', 'Apr', 'May', 'Jun', 'Jul', 'Aug', 'Sep', 'Oct', 'Nov', 'Dec']\n",
    "\n",
    "# Initial dataframe\n",
    "output_df = None\n",
    "\n",
    "for year in years:\n",
    "    # Load the data\n",
    "    filename = f\"time_series_dest_deps_by_airline_{year}_@above10K.csv\"\n",
    "    df = pd.read_csv(filename)\n",
    "\n",
    "    # Calculate the annual total and create a new dataframe with it\n",
    "    df[year] = df[months].sum(axis=1)\n",
    "    df_yearly = df.drop(months + ['total'], axis=1)\n",
    "\n",
    "    # Merge with the output dataframe\n",
    "    if output_df is None:\n",
    "        output_df = df_yearly\n",
    "    else:\n",
    "        output_df = pd.merge(output_df, df_yearly, how='outer', on=['AIRLINE_ID', 'UNIQUE_CARRIER_NAME', 'DEST_AIRPORT_ID', 'DEST',\n",
    "       'DEST_CITY_NAME', 'DEST_STATE_ABR'])\n",
    "\n",
    "# Save the output to a single file\n",
    "output_df.to_csv('annual_time_series_deps_by_airline&dest.csv', index=False)\n",
    "\n"
   ]
  },
  {
   "cell_type": "code",
   "execution_count": 7,
   "metadata": {},
   "outputs": [],
   "source": [
    "df2 = pd.read_csv('annual_time_series_deps_by_airline&dest.csv')"
   ]
  },
  {
   "cell_type": "code",
   "execution_count": 8,
   "metadata": {},
   "outputs": [
    {
     "name": "stdout",
     "output_type": "stream",
     "text": [
      "Number of unique ORIGIN_AIRPORT_ID: 50\n",
      "List of unique ORIGIN_AIRPORT_ID: [19393.0, 19687.0, 19690.0, 19790.0, 19805.0, 19930.0, 19977.0, 20046.0, 20237.0, 20253.0, 20257.0, 20272.0, 20273.0, 20289.0, 20304.0, 20363.0, 20366.0, 20368.0, 20378.0, 20397.0, 20398.0, 20401.0, 20409.0, 20416.0, 20422.0, 20427.0, 20436.0, 20445.0, 20452.0, 20500.0, 21080.0, 21167.0, 21242.0, 21253.0, 21477.0, 21599.0, 21618.0, 21635.0, 21636.0, 21712.0, 21743.0, 21879.0, 21894.0, 21964.0, 20330.0, 21492.0, 20207.0, 21835.0, 22080.0, 22081.0]\n"
     ]
    }
   ],
   "source": [
    "# Get a list of unique 'ORIGIN_AIRPORT_ID'\n",
    "airline_ids = df2['AIRLINE_ID'].unique()\n",
    "\n",
    "# Calculate the number of unique 'ORIGIN_AIRPORT_ID'\n",
    "num_unique_airline_ids = len(airline_ids)\n",
    "\n",
    "# Print the number of unique 'ORIGIN_AIRPORT_ID'\n",
    "print(f\"Number of unique ORIGIN_AIRPORT_ID: {num_unique_airline_ids}\")\n",
    "\n",
    "# Print the list of unique 'ORIGIN_AIRPORT_ID'\n",
    "print(f\"List of unique ORIGIN_AIRPORT_ID: {list(airline_ids)}\")\n"
   ]
  },
  {
   "cell_type": "code",
   "execution_count": null,
   "metadata": {},
   "outputs": [],
   "source": []
  }
 ],
 "metadata": {
  "kernelspec": {
   "display_name": "Python 3",
   "language": "python",
   "name": "python3"
  },
  "language_info": {
   "codemirror_mode": {
    "name": "ipython",
    "version": 3
   },
   "file_extension": ".py",
   "mimetype": "text/x-python",
   "name": "python",
   "nbconvert_exporter": "python",
   "pygments_lexer": "ipython3",
   "version": "3.11.0rc2"
  },
  "orig_nbformat": 4
 },
 "nbformat": 4,
 "nbformat_minor": 2
}
