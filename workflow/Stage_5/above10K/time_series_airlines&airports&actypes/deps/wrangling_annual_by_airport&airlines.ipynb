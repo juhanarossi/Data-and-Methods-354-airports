{
 "cells": [
  {
   "cell_type": "code",
   "execution_count": 1,
   "metadata": {},
   "outputs": [],
   "source": [
    "import pandas as pd "
   ]
  },
  {
   "cell_type": "code",
   "execution_count": 6,
   "metadata": {},
   "outputs": [],
   "source": [
    "# Define the list of years\n",
    "years = ['2019', '2020', '2021', '2022']\n",
    "\n",
    "# List of months\n",
    "months = ['Jan', 'Feb', 'Mar', 'Apr', 'May', 'Jun', 'Jul', 'Aug', 'Sep', 'Oct', 'Nov', 'Dec']\n",
    "\n",
    "# Initial dataframe\n",
    "output_df = None\n",
    "\n",
    "for year in years:\n",
    "    # Load the data\n",
    "    filename = f\"time_series_deps_airline_{year}_@above10K.csv\"\n",
    "    df = pd.read_csv(filename)\n",
    "\n",
    "    # Calculate the annual total and create a new dataframe with it\n",
    "    df[year] = df[months].sum(axis=1)\n",
    "    df_yearly = df.drop(months + ['total'], axis=1)\n",
    "\n",
    "    # Merge with the output dataframe\n",
    "    if output_df is None:\n",
    "        output_df = df_yearly\n",
    "    else:\n",
    "        output_df = pd.merge(output_df, df_yearly, how='outer', on=['ORIGIN_AIRPORT_ID', 'ORIGIN_STATE_ABR', 'CODE', 'NAME', 'AIRLINE_ID', 'UNIQUE_CARRIER_NAME', 'AIRCRAFT_TYPE', 'Description'])\n",
    "\n",
    "# Save the output to a single file\n",
    "output_df.to_csv('annual_time_series_with_airports&airlines.csv', index=False)\n",
    "\n"
   ]
  },
  {
   "cell_type": "code",
   "execution_count": null,
   "metadata": {},
   "outputs": [],
   "source": []
  }
 ],
 "metadata": {
  "kernelspec": {
   "display_name": "Python 3",
   "language": "python",
   "name": "python3"
  },
  "language_info": {
   "codemirror_mode": {
    "name": "ipython",
    "version": 3
   },
   "file_extension": ".py",
   "mimetype": "text/x-python",
   "name": "python",
   "nbconvert_exporter": "python",
   "pygments_lexer": "ipython3",
   "version": "3.11.0"
  },
  "orig_nbformat": 4
 },
 "nbformat": 4,
 "nbformat_minor": 2
}
