{
 "cells": [
  {
   "cell_type": "code",
   "execution_count": 1,
   "metadata": {},
   "outputs": [],
   "source": [
    "import pandas as pd"
   ]
  },
  {
   "cell_type": "code",
   "execution_count": 2,
   "metadata": {},
   "outputs": [],
   "source": [
    "df = pd.read_csv('airport_codes_master_analysis.csv')"
   ]
  },
  {
   "cell_type": "code",
   "execution_count": 3,
   "metadata": {},
   "outputs": [],
   "source": [
    "df = df[['ORIGIN_AIRPORT_ID']]\n"
   ]
  },
  {
   "cell_type": "code",
   "execution_count": 4,
   "metadata": {},
   "outputs": [
    {
     "data": {
      "text/html": [
       "<div>\n",
       "<style scoped>\n",
       "    .dataframe tbody tr th:only-of-type {\n",
       "        vertical-align: middle;\n",
       "    }\n",
       "\n",
       "    .dataframe tbody tr th {\n",
       "        vertical-align: top;\n",
       "    }\n",
       "\n",
       "    .dataframe thead th {\n",
       "        text-align: right;\n",
       "    }\n",
       "</style>\n",
       "<table border=\"1\" class=\"dataframe\">\n",
       "  <thead>\n",
       "    <tr style=\"text-align: right;\">\n",
       "      <th></th>\n",
       "      <th>ORIGIN_AIRPORT_ID</th>\n",
       "    </tr>\n",
       "  </thead>\n",
       "  <tbody>\n",
       "    <tr>\n",
       "      <th>0</th>\n",
       "      <td>10005</td>\n",
       "    </tr>\n",
       "    <tr>\n",
       "      <th>1</th>\n",
       "      <td>10006</td>\n",
       "    </tr>\n",
       "    <tr>\n",
       "      <th>2</th>\n",
       "      <td>10011</td>\n",
       "    </tr>\n",
       "    <tr>\n",
       "      <th>3</th>\n",
       "      <td>10039</td>\n",
       "    </tr>\n",
       "    <tr>\n",
       "      <th>4</th>\n",
       "      <td>10042</td>\n",
       "    </tr>\n",
       "    <tr>\n",
       "      <th>...</th>\n",
       "      <td>...</td>\n",
       "    </tr>\n",
       "    <tr>\n",
       "      <th>808</th>\n",
       "      <td>16869</td>\n",
       "    </tr>\n",
       "    <tr>\n",
       "      <th>809</th>\n",
       "      <td>16879</td>\n",
       "    </tr>\n",
       "    <tr>\n",
       "      <th>810</th>\n",
       "      <td>16923</td>\n",
       "    </tr>\n",
       "    <tr>\n",
       "      <th>811</th>\n",
       "      <td>16929</td>\n",
       "    </tr>\n",
       "    <tr>\n",
       "      <th>812</th>\n",
       "      <td>16954</td>\n",
       "    </tr>\n",
       "  </tbody>\n",
       "</table>\n",
       "<p>813 rows × 1 columns</p>\n",
       "</div>"
      ],
      "text/plain": [
       "     ORIGIN_AIRPORT_ID\n",
       "0                10005\n",
       "1                10006\n",
       "2                10011\n",
       "3                10039\n",
       "4                10042\n",
       "..                 ...\n",
       "808              16869\n",
       "809              16879\n",
       "810              16923\n",
       "811              16929\n",
       "812              16954\n",
       "\n",
       "[813 rows x 1 columns]"
      ]
     },
     "execution_count": 4,
     "metadata": {},
     "output_type": "execute_result"
    }
   ],
   "source": [
    "df"
   ]
  },
  {
   "cell_type": "code",
   "execution_count": 8,
   "metadata": {},
   "outputs": [],
   "source": [
    "# Define the months in order\n",
    "months = ['Jan', 'Feb', 'Mar', 'Apr', 'May', 'Jun', 'Jul', 'Aug', 'Sep', 'Oct', 'Nov', 'Dec']\n",
    "# Define the years\n",
    "years = ['2019', '2020', '2021', '2022']\n",
    "\n",
    "# Loop through each year\n",
    "for year in years:\n",
    "    # Define your initial DataFrame with just three columns\n",
    "    output_df = pd.DataFrame(columns=['ORIGIN_AIRPORT_ID', 'NAME', 'AIRLINE_ID', 'UNIQUE_CARRIER_NAME', 'AIRCRAFT_TYPE', 'DEST_AIRPORT_ID', 'DEST', 'DEST_CITY_NAME', 'DEST_STATE_ABR'])\n",
    "\n",
    "    # Loop through each month\n",
    "    for month in months:\n",
    "        # Define the filename\n",
    "        filename = f'{year}/destinations{year}/destinations_{month}{year}.csv'\n",
    "        \n",
    "        # Read the csv file into a DataFrame\n",
    "        df = pd.read_csv(filename)\n",
    "        \n",
    "        # Merge the read DataFrame with your output DataFrame, adding a column with the month as its name\n",
    "        output_df = pd.merge(output_df, df[['ORIGIN_AIRPORT_ID', 'NAME', 'AIRLINE_ID', 'UNIQUE_CARRIER_NAME', 'AIRCRAFT_TYPE', 'DEST_AIRPORT_ID', 'DEST', 'DEST_CITY_NAME', 'DEST_STATE_ABR', 'PASSENGERS']], \n",
    "                             on=['ORIGIN_AIRPORT_ID', 'NAME', 'AIRLINE_ID', 'UNIQUE_CARRIER_NAME', 'AIRCRAFT_TYPE', 'DEST_AIRPORT_ID', 'DEST', 'DEST_CITY_NAME', 'DEST_STATE_ABR'], how='outer')\n",
    "\n",
    "        # Rename the 'DEPARTURES_PERFORMED' column to the respective month\n",
    "        output_df = output_df.rename(columns={'PASSENGERS': month})\n",
    "\n",
    "    # Add the 'total' column, which is the sum of all month columns for each row\n",
    "    output_df['total'] = output_df[months].sum(axis=1)\n",
    "\n",
    "    # Save the final DataFrame to a csv file\n",
    "    output_df.to_csv(f'time_series_pax_destinations_{year}.csv', index=False)\n",
    "\n"
   ]
  },
  {
   "cell_type": "code",
   "execution_count": null,
   "metadata": {},
   "outputs": [],
   "source": []
  }
 ],
 "metadata": {
  "kernelspec": {
   "display_name": "Python 3",
   "language": "python",
   "name": "python3"
  },
  "language_info": {
   "codemirror_mode": {
    "name": "ipython",
    "version": 3
   },
   "file_extension": ".py",
   "mimetype": "text/x-python",
   "name": "python",
   "nbconvert_exporter": "python",
   "pygments_lexer": "ipython3",
   "version": "3.11.0"
  },
  "orig_nbformat": 4
 },
 "nbformat": 4,
 "nbformat_minor": 2
}
