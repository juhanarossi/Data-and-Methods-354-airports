{
 "cells": [
  {
   "cell_type": "code",
   "execution_count": 1,
   "metadata": {},
   "outputs": [],
   "source": [
    "import pandas as pd\n",
    "import os\n",
    "import numpy as np"
   ]
  },
  {
   "cell_type": "code",
   "execution_count": 2,
   "metadata": {},
   "outputs": [
    {
     "data": {
      "text/html": [
       "<div>\n",
       "<style scoped>\n",
       "    .dataframe tbody tr th:only-of-type {\n",
       "        vertical-align: middle;\n",
       "    }\n",
       "\n",
       "    .dataframe tbody tr th {\n",
       "        vertical-align: top;\n",
       "    }\n",
       "\n",
       "    .dataframe thead th {\n",
       "        text-align: right;\n",
       "    }\n",
       "</style>\n",
       "<table border=\"1\" class=\"dataframe\">\n",
       "  <thead>\n",
       "    <tr style=\"text-align: right;\">\n",
       "      <th></th>\n",
       "      <th>ORIGIN_AIRPORT_ID</th>\n",
       "      <th>NAME</th>\n",
       "    </tr>\n",
       "  </thead>\n",
       "  <tbody>\n",
       "    <tr>\n",
       "      <th>0</th>\n",
       "      <td>10001</td>\n",
       "      <td>Afognak Lake, AK: Afognak Lake Airport</td>\n",
       "    </tr>\n",
       "    <tr>\n",
       "      <th>1</th>\n",
       "      <td>10003</td>\n",
       "      <td>Granite Mountain, AK: Bear Creek Mining Strip</td>\n",
       "    </tr>\n",
       "    <tr>\n",
       "      <th>2</th>\n",
       "      <td>10004</td>\n",
       "      <td>Lik, AK: Lik Mining Camp</td>\n",
       "    </tr>\n",
       "    <tr>\n",
       "      <th>3</th>\n",
       "      <td>10005</td>\n",
       "      <td>Little Squaw, AK: Little Squaw Airport</td>\n",
       "    </tr>\n",
       "    <tr>\n",
       "      <th>4</th>\n",
       "      <td>10006</td>\n",
       "      <td>Kizhuyak, AK: Kizhuyak Bay</td>\n",
       "    </tr>\n",
       "  </tbody>\n",
       "</table>\n",
       "</div>"
      ],
      "text/plain": [
       "   ORIGIN_AIRPORT_ID                                           NAME\n",
       "0              10001         Afognak Lake, AK: Afognak Lake Airport\n",
       "1              10003  Granite Mountain, AK: Bear Creek Mining Strip\n",
       "2              10004                       Lik, AK: Lik Mining Camp\n",
       "3              10005         Little Squaw, AK: Little Squaw Airport\n",
       "4              10006                     Kizhuyak, AK: Kizhuyak Bay"
      ]
     },
     "execution_count": 2,
     "metadata": {},
     "output_type": "execute_result"
    }
   ],
   "source": [
    "df = pd.read_csv('Airport_ID.csv')\n",
    "df.head()"
   ]
  },
  {
   "cell_type": "code",
   "execution_count": 3,
   "metadata": {},
   "outputs": [
    {
     "name": "stdout",
     "output_type": "stream",
     "text": [
      "All files for year 2019 processed successfully!\n",
      "All files for year 2020 processed successfully!\n",
      "All files for year 2021 processed successfully!\n",
      "All files for year 2022 processed successfully!\n"
     ]
    }
   ],
   "source": [
    "\n",
    "def process_files(path, df, year):\n",
    "    files = os.listdir(path)\n",
    "    csv_files = [f for f in files if f.endswith('.csv')]\n",
    "\n",
    "    directory_name = f'{year}/destinations{year}'\n",
    "    if not os.path.exists(directory_name):\n",
    "        os.makedirs(directory_name)\n",
    "\n",
    "    for file in csv_files:\n",
    "        df_file = pd.read_csv(os.path.join(path, file))\n",
    "        \n",
    "        # Filter rows\n",
    "        df_file = df_file[df_file['CLASS'] == 'F']\n",
    "\n",
    "        # Merge dataframes\n",
    "        merged_df = pd.merge(df_file, df, on='ORIGIN_AIRPORT_ID', how='right')\n",
    "\n",
    "        # Groupby and sum\n",
    "        grouped = merged_df.groupby(['ORIGIN_AIRPORT_ID', 'DEST_AIRPORT_ID', 'DEST', 'DEST_CITY_NAME', 'DEST_STATE_ABR']).agg({\n",
    "            'NAME': 'first',\n",
    "            'DEPARTURES_PERFORMED': np.sum,\n",
    "            'PASSENGERS': np.sum,\n",
    "            'ORIGIN_STATE_ABR': 'first'\n",
    "        }).reset_index()\n",
    "\n",
    "        # Replace NaN with 0 for 'DEPARTURES_PERFORMED' and 'PASSENGERS'\n",
    "        grouped[['DEPARTURES_PERFORMED', 'PASSENGERS']] = grouped[['DEPARTURES_PERFORMED', 'PASSENGERS']].fillna(0)\n",
    "\n",
    "        # Save to csv\n",
    "        grouped.to_csv(f'{directory_name}/destinations_{file}', index=False)\n",
    "    \n",
    "    print(f\"All files for year {year} processed successfully!\")\n",
    "\n",
    "# Assume df is your existing dataframe\n",
    "# Call the function for each year starting from 2019\n",
    "for year in range(2019, 2023):  # Adjust the range as per your requirement\n",
    "    process_files(f'{year}/raw{year}', df, year)\n",
    "\n",
    "\n"
   ]
  },
  {
   "cell_type": "code",
   "execution_count": null,
   "metadata": {},
   "outputs": [],
   "source": []
  }
 ],
 "metadata": {
  "kernelspec": {
   "display_name": "Python 3",
   "language": "python",
   "name": "python3"
  },
  "language_info": {
   "codemirror_mode": {
    "name": "ipython",
    "version": 3
   },
   "file_extension": ".py",
   "mimetype": "text/x-python",
   "name": "python",
   "nbconvert_exporter": "python",
   "pygments_lexer": "ipython3",
   "version": "3.11.0rc2"
  },
  "orig_nbformat": 4
 },
 "nbformat": 4,
 "nbformat_minor": 2
}
