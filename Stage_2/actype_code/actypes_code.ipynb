{
 "cells": [
  {
   "cell_type": "code",
   "execution_count": null,
   "metadata": {},
   "outputs": [],
   "source": [
    "import pandas as pd\n",
    "import os\n",
    "import numpy as np"
   ]
  },
  {
   "cell_type": "code",
   "execution_count": null,
   "metadata": {},
   "outputs": [],
   "source": [
    "df = pd.read_csv('Airport_ID.csv')\n",
    "df.head()"
   ]
  },
  {
   "cell_type": "code",
   "execution_count": null,
   "metadata": {},
   "outputs": [],
   "source": [
    "import os\n",
    "import pandas as pd\n",
    "import numpy as np\n",
    "\n",
    "def process_files(path, df, year):\n",
    "    files = os.listdir(path)\n",
    "    csv_files = [f for f in files if f.endswith('.csv')]\n",
    "\n",
    "    directory_name = f'{year}/actype{year}'\n",
    "    if not os.path.exists(directory_name):\n",
    "        os.makedirs(directory_name)\n",
    "\n",
    "    for file in csv_files:\n",
    "        df_file = pd.read_csv(os.path.join(path, file))\n",
    "        \n",
    "        # Filter rows\n",
    "        df_file = df_file[df_file['CLASS'] == 'F']\n",
    "\n",
    "        # Merge dataframes\n",
    "        merged_df = pd.merge(df_file, df, on='ORIGIN_AIRPORT_ID', how='right')\n",
    "\n",
    "        # Groupby and sum\n",
    "        grouped = merged_df.groupby(['ORIGIN_AIRPORT_ID', 'AIRCRAFT_TYPE']).agg({\n",
    "            'NAME': 'first',\n",
    "            'DEPARTURES_PERFORMED': np.sum,\n",
    "            'PASSENGERS': np.sum,\n",
    "            'ORIGIN_STATE_ABR': 'first'\n",
    "        }).reset_index()\n",
    "\n",
    "        # Replace NaN with 0 for 'DEPARTURES_PERFORMED' and 'PASSENGERS'\n",
    "        grouped[['DEPARTURES_PERFORMED', 'PASSENGERS']] = grouped[['DEPARTURES_PERFORMED', 'PASSENGERS']].fillna(0)\n",
    "\n",
    "        # Save to csv\n",
    "        grouped.to_csv(f'{directory_name}/actypes_{file}', index=False)\n",
    "    \n",
    "    print(f\"All files for year {year} processed successfully!\")\n",
    "\n",
    "# Assume df is your existing dataframe\n",
    "# Call the function for each year starting from 2019\n",
    "for year in range(2023, 2024):  # Adjust the range as per your requirement\n",
    "    process_files(f'{year}/raw{year}', df, year)\n",
    "\n",
    "\n"
   ]
  },
  {
   "cell_type": "code",
   "execution_count": null,
   "metadata": {},
   "outputs": [],
   "source": []
  }
 ],
 "metadata": {
  "kernelspec": {
   "display_name": "Python 3",
   "language": "python",
   "name": "python3"
  },
  "language_info": {
   "codemirror_mode": {
    "name": "ipython",
    "version": 3
   },
   "file_extension": ".py",
   "mimetype": "text/x-python",
   "name": "python",
   "nbconvert_exporter": "python",
   "pygments_lexer": "ipython3",
   "version": "3.11.0rc2"
  },
  "orig_nbformat": 4
 },
 "nbformat": 4,
 "nbformat_minor": 2
}
